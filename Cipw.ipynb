{
 "cells": [
  {
   "cell_type": "code",
   "execution_count": 2,
   "metadata": {
    "id": "DWFOnDX9jPhD"
   },
   "outputs": [],
   "source": [
    "#Khomola Talifhani Junior\n",
    "\n",
    "#Entry values\n",
    "Bulk_Analysis = {\n",
    "    'SiO2':41.6 ,\n",
    "    'TiO2':2.66 ,\n",
    "    'Al2O3': 50 ,\n",
    "    'Fe2O3':5.48 ,\n",
    "    'FeO':6.17 ,\n",
    "    'MnO':0.26 ,\n",
    "    'MgO':6.39 ,\n",
    "    'CaO':11.89 ,\n",
    "    'Na2O':4.79 ,\n",
    "    'K2O':3.46 ,\n",
    "    'P2O5':1.07 ,\n",
    "}"
   ]
  },
  {
   "cell_type": "code",
   "execution_count": 3,
   "metadata": {
    "id": "705kx9kLioIV"
   },
   "outputs": [],
   "source": [
    "#Key\n",
    "elements = {\n",
    "    'Si': 'SiO2',\n",
    "    'Al': 'Al2O3',\n",
    "    'Fe': 'FeO',\n",
    "    'Mg': 'MgO',\n",
    "    'Ca': 'CaO',\n",
    "    'Na': 'Na2O',\n",
    "    'K': 'K2O',\n",
    "    'Ti': 'TiO2',\n",
    "    'Fe2': 'Fe2O3',\n",
    "    'Mn': 'MnO',\n",
    "    'P': 'P2O5',\n",
    "}"
   ]
  },
  {
   "cell_type": "code",
   "execution_count": 4,
   "metadata": {
    "id": "e5loKcbuirD0"
   },
   "outputs": [],
   "source": [
    "#Constant Values\n",
    "Mol_Weight = {\n",
    "    'SiO2':60.09 ,\n",
    "    'TiO2':79.9 ,\n",
    "    'Al2O3':101.94 ,\n",
    "    'Fe2O3':159.7 ,\n",
    "    'FeO':71.85 ,\n",
    "    'MnO':70.94 ,\n",
    "    'MgO':40.32 ,\n",
    "    'CaO':56.08 ,\n",
    "    'Na2O':61.982 ,\n",
    "    'K2O':94.2 ,\n",
    "    'P2O5':141.95 ,\n",
    "}"
   ]
  },
  {
   "cell_type": "code",
   "execution_count": 5,
   "metadata": {
    "colab": {
     "base_uri": "https://localhost:8080/"
    },
    "id": "YknaTJRiiz2V",
    "outputId": "b021cef7-b34b-4d53-f7cd-63d088e8599f"
   },
   "outputs": [
    {
     "name": "stdout",
     "output_type": "stream",
     "text": [
      "SiO2: 692.29 mg/L\n",
      "TiO2: 33.29 mg/L\n",
      "Al2O3: 490.48 mg/L\n",
      "Fe2O3: 34.31 mg/L\n",
      "FeO: 85.87 mg/L\n",
      "MnO: 3.67 mg/L\n",
      "MgO: 158.48 mg/L\n",
      "CaO: 212.02 mg/L\n",
      "Na2O: 77.28 mg/L\n",
      "K2O: 36.73 mg/L\n",
      "P2O5: 7.54 mg/L\n"
     ]
    }
   ],
   "source": [
    "millications = {}\n",
    "for element, percent in Bulk_Analysis.items():\n",
    "    Molar_Weight = Mol_Weight.get(element, None)\n",
    "    if Molar_Weight is not None:\n",
    "        millications[element] = (percent) * 1000 / Molar_Weight\n",
    "for element, value in millications.items():\n",
    "    print(f'{element}: {value:.2f} mg/L')"
   ]
  },
  {
   "cell_type": "code",
   "execution_count": 6,
   "metadata": {
    "colab": {
     "base_uri": "https://localhost:8080/"
    },
    "id": "ZF54LyYui8Bb",
    "outputId": "25a18deb-d2d2-43af-9756-092c1c10123b"
   },
   "outputs": [
    {
     "name": "stdout",
     "output_type": "stream",
     "text": [
      "89.53841632367342\n"
     ]
    }
   ],
   "source": [
    "correct_FeO = millications['FeO'] + millications['MnO']\n",
    "print(correct_FeO)"
   ]
  },
  {
   "cell_type": "code",
   "execution_count": 7,
   "metadata": {
    "id": "o91zTrp2jXJZ"
   },
   "outputs": [],
   "source": [
    "#Constant Values\n",
    "Mineral_formulas = {\n",
    "    'Apatite': {'P': 1, 'Ca': 5, 'F': 3},\n",
    "    'Ilmenite': {'Ti': 1, 'Fe': 1, 'O': 3},\n",
    "    'Orthoclase': {'K': 1, 'Al': 1, 'Si': 3, 'O': 8},\n",
    "    'Albite': {'Na': 1, 'Al': 1, 'Si': 3, 'O': 8},\n",
    "    'Anorthite': {'Ca': 1, 'Al': 2, 'Si': 2, 'O': 8},\n",
    "    'Aegyrine': {'Na': 1, 'Fe': 3, 'Si': 2, 'O': 6},\n",
    "    'Corundum': {'Al': 2, 'O': 3},\n",
    "    'Magnetite': {'Fe': 3, 'O': 4},\n",
    "    'Hematite': {'Fe2': 2, 'O': 3},\n",
    "    'Diopside': {'Ca': 1, 'Mg': 1, 'Si': 2, 'O': 6},\n",
    "    'Hypersthene': {'Mg': 1, 'Fe': 1, 'Si': 2, 'O': 6},\n",
    "    'Wollastonite': {'Ca': 1, 'Si': 3, 'O': 9},\n",
    "    'Quartz': {'Si': 1, 'O': 2},\n",
    "    'Olivine': {'Mg': 2, 'Si': 1, 'O': 4},\n",
    "    'Nepheline': {'Na': 1, 'Al': 1, 'Si': 1, 'O': 4},\n",
    "    'Leucite': {'K': 1, 'Al': 1, 'Si': 2, 'O': 6},\n",
    "}"
   ]
  },
  {
   "cell_type": "code",
   "execution_count": 8,
   "metadata": {
    "id": "tz-FU4yllOQm"
   },
   "outputs": [],
   "source": [
    "molar_concentrations = {}\n",
    "for element, percent in Bulk_Analysis.items():\n",
    "    molar_weight = Mol_Weight.get(element, None)\n",
    "    if molar_weight is not None:\n",
    "        molar_concentration = (percent*10) / molar_weight\n",
    "        molar_concentrations[element] = molar_concentration"
   ]
  },
  {
   "cell_type": "code",
   "execution_count": 9,
   "metadata": {
    "id": "-RHNNBHJllaJ"
   },
   "outputs": [],
   "source": [
    "total_cation_concentration = sum(molar_concentrations[element] for element in molar_concentrations if element != 'O')"
   ]
  },
  {
   "cell_type": "code",
   "execution_count": 10,
   "metadata": {
    "id": "MkcaoerelwhA"
   },
   "outputs": [],
   "source": [
    "Oxide_proportion = {}\n",
    "for element, concentration in molar_concentrations.items():\n",
    "    if element != 'O':\n",
    "        Oxide_proportion[element] = (concentration / total_cation_concentration) * 100"
   ]
  },
  {
   "cell_type": "code",
   "execution_count": 11,
   "metadata": {
    "colab": {
     "base_uri": "https://localhost:8080/"
    },
    "id": "tJFDqYd8mM6t",
    "outputId": "fe62f18b-b99a-4232-b4d2-18471b99b76d"
   },
   "outputs": [
    {
     "name": "stdout",
     "output_type": "stream",
     "text": [
      "SiO2: 37.79%\n",
      "TiO2: 1.82%\n",
      "Al2O3: 26.77%\n",
      "Fe2O3: 1.87%\n",
      "FeO: 4.69%\n",
      "MnO: 0.20%\n",
      "MgO: 8.65%\n",
      "CaO: 11.57%\n",
      "Na2O: 4.22%\n",
      "K2O: 2.00%\n",
      "P2O5: 0.41%\n"
     ]
    }
   ],
   "source": [
    "for element, proportion in Oxide_proportion.items():\n",
    "    print(f'{element}: {proportion:.2f}%')"
   ]
  },
  {
   "cell_type": "code",
   "execution_count": 12,
   "metadata": {
    "id": "fytSqFukAEcv"
   },
   "outputs": [],
   "source": [
    "mineral_proportions = {}\n",
    "for mineral, formula in Mineral_formulas.items():\n",
    "    mineral_proportion = 0.0\n",
    "    for element, count in formula.items():\n",
    "        if element in elements:\n",
    "            mineral_proportion += (count * molar_concentrations[elements[element]]) / total_cation_concentration\n",
    "    mineral_proportions[mineral] = mineral_proportion"
   ]
  },
  {
   "cell_type": "code",
   "execution_count": 20,
   "metadata": {
    "colab": {
     "base_uri": "https://localhost:8080/"
    },
    "id": "l9jVMbkkhm7O",
    "outputId": "3e90a686-1555-47ef-8ac7-20600ffc829b"
   },
   "outputs": [
    {
     "ename": "NameError",
     "evalue": "name 'tabulate' is not defined",
     "output_type": "error",
     "traceback": [
      "\u001b[0;31m---------------------------------------------------------------------------\u001b[0m",
      "\u001b[0;31mNameError\u001b[0m                                 Traceback (most recent call last)",
      "Cell \u001b[0;32mIn[20], line 7\u001b[0m\n\u001b[1;32m      5\u001b[0m     table_data\u001b[38;5;241m.\u001b[39mappend([mineral, \u001b[38;5;124mf\u001b[39m\u001b[38;5;124m'\u001b[39m\u001b[38;5;132;01m{\u001b[39;00mproportion\u001b[38;5;132;01m:\u001b[39;00m\u001b[38;5;124m.2f\u001b[39m\u001b[38;5;132;01m}\u001b[39;00m\u001b[38;5;124m∝\u001b[39m\u001b[38;5;124m'\u001b[39m])\n\u001b[1;32m      6\u001b[0m headers \u001b[38;5;241m=\u001b[39m [\u001b[38;5;124m\"\u001b[39m\u001b[38;5;124mMineral\u001b[39m\u001b[38;5;124m\"\u001b[39m, \u001b[38;5;124m\"\u001b[39m\u001b[38;5;124mMineral Prop\u001b[39m\u001b[38;5;124m\"\u001b[39m]\n\u001b[0;32m----> 7\u001b[0m table \u001b[38;5;241m=\u001b[39m \u001b[43mtabulate\u001b[49m(table_data, headers, tablefmt\u001b[38;5;241m=\u001b[39m\u001b[38;5;124m\"\u001b[39m\u001b[38;5;124mgrid\u001b[39m\u001b[38;5;124m\"\u001b[39m)\n\u001b[1;32m      8\u001b[0m \u001b[38;5;28mprint\u001b[39m(table)\n",
      "\u001b[0;31mNameError\u001b[0m: name 'tabulate' is not defined"
     ]
    }
   ],
   "source": [
    "#import tabulate\n",
    "#from tabulate import tabulate\n",
    "table_data = []\n",
    "for mineral, proportion in mineral_proportions.items():\n",
    "    table_data.append([mineral, f'{proportion:.2f}∝'])\n",
    "headers = [\"Mineral\", \"Mineral Prop\"]\n",
    "table = tabulate(table_data, headers, tablefmt=\"grid\")\n",
    "print(table)"
   ]
  },
  {
   "cell_type": "code",
   "execution_count": null,
   "metadata": {},
   "outputs": [],
   "source": []
  }
 ],
 "metadata": {
  "colab": {
   "provenance": []
  },
  "kernelspec": {
   "display_name": "Python 3 (ipykernel)",
   "language": "python",
   "name": "python3"
  },
  "language_info": {
   "codemirror_mode": {
    "name": "ipython",
    "version": 3
   },
   "file_extension": ".py",
   "mimetype": "text/x-python",
   "name": "python",
   "nbconvert_exporter": "python",
   "pygments_lexer": "ipython3",
   "version": "3.9.7"
  }
 },
 "nbformat": 4,
 "nbformat_minor": 1
}
